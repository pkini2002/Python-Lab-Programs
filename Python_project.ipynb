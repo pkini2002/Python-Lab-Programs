{
  "nbformat": 4,
  "nbformat_minor": 0,
  "metadata": {
    "colab": {
      "name": "Python-project.ipynb",
      "provenance": [],
      "authorship_tag": "ABX9TyMHrPpmAuUWlXyul4ptLnDy",
      "include_colab_link": true
    },
    "kernelspec": {
      "name": "python3",
      "display_name": "Python 3"
    },
    "language_info": {
      "name": "python"
    }
  },
  "cells": [
    {
      "cell_type": "markdown",
      "metadata": {
        "id": "view-in-github",
        "colab_type": "text"
      },
      "source": [
        "<a href=\"https://colab.research.google.com/github/pkini2002/Practicepython/blob/main/Python_project.ipynb\" target=\"_parent\"><img src=\"https://colab.research.google.com/assets/colab-badge.svg\" alt=\"Open In Colab\"/></a>"
      ]
    },
    {
      "cell_type": "code",
      "source": [
        "#Quiz game using Python\n",
        "def guess_name(guess,answer):\n",
        "  global score\n",
        "  still_guessing=True\n",
        "  attempt=0\n",
        "  while still_guessing and attempt<3:\n",
        "    if guess.lower()==answer.lower():\n",
        "      print(\"Hurray!You gave the correct answer\")\n",
        "      score=score+1\n",
        "      still_guessing=False\n",
        "\n",
        "    else:\n",
        "      if attempt<2:\n",
        "        print(\"Sorry! Wrong answer..Try again!!\")\n",
        "        attempt=attempt+1\n",
        "\n",
        "\n",
        "    if attempt==3:\n",
        "      print(\"The correct answer is:\",answer)\n",
        "     \n",
        "        \n",
        "score=0\n",
        "guess_1=input(\"Which is the keyword used for decalaring a function:\")\n",
        "guess_name(guess_1,\"def\")\n",
        "guess_2=input(\"What is the datatype of 123.4?\")\n",
        "guess_name(guess_2,\"float\")\n",
        "guess_3=input(\"Who is the founder of Python?\")\n",
        "guess_name(guess_3,\"guido van rossum\")\n",
        "print(\"Your final score is \"+ str(score))\n",
        "\n",
        "\n"
      ],
      "metadata": {
        "colab": {
          "base_uri": "https://localhost:8080/"
        },
        "id": "ntktyqQo-_tB",
        "outputId": "f9019e86-2fd1-4e4b-ae24-de8771d79640"
      },
      "execution_count": 7,
      "outputs": [
        {
          "output_type": "stream",
          "name": "stdout",
          "text": [
            "Which is the keyword used for decalaring a function:def\n",
            "Hurray!You gave the correct answer\n",
            "What is the datatype of 123.4?float\n",
            "Hurray!You gave the correct answer\n",
            "Who is the founder of Python?guido van rossum\n",
            "Hurray!You gave the correct answer\n",
            "Your final score is 3\n"
          ]
        }
      ]
    }
  ]
}