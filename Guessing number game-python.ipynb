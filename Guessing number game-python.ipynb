{
 "cells": [
  {
   "cell_type": "code",
   "execution_count": 1,
   "id": "3be33dac",
   "metadata": {},
   "outputs": [
    {
     "name": "stdout",
     "output_type": "stream",
     "text": [
      "Enter any number:15\n",
      "Too much far\n",
      "Enter any other number:10\n",
      "Too much far\n",
      "Enter any other number:5\n",
      "Too much far\n",
      "Enter any other number:3\n",
      "Too much far\n",
      "Enter any other number:2\n",
      "Too much far\n",
      "Enter any other number:1\n",
      "Hurray! You guessed the correct value!!\n"
     ]
    }
   ],
   "source": [
    "import random\n",
    "#to create a range of random numbers between 1-20\n",
    "n=random.randrange(1,20)\n",
    "guess_value=int(input(\"Enter any number:\"))\n",
    "while n!=guess_value:\n",
    "    #if guess_value is less than n\n",
    "    if guess_value<n:\n",
    "        print(\"Too much low\")\n",
    "        guess_value=int(input(\"Enter any other number:\"))\n",
    "    elif guess_value>n:\n",
    "        print(\"Too much far\")\n",
    "        guess_value=int(input(\"Enter any other number:\"))\n",
    "    else:\n",
    "        break\n",
    "\n",
    "print(\"Hurray! You guessed the correct value!!\")\n"
   ]
  },
  {
   "cell_type": "code",
   "execution_count": null,
   "id": "e848da60",
   "metadata": {},
   "outputs": [],
   "source": []
  }
 ],
 "metadata": {
  "kernelspec": {
   "display_name": "Python 3 (ipykernel)",
   "language": "python",
   "name": "python3"
  },
  "language_info": {
   "codemirror_mode": {
    "name": "ipython",
    "version": 3
   },
   "file_extension": ".py",
   "mimetype": "text/x-python",
   "name": "python",
   "nbconvert_exporter": "python",
   "pygments_lexer": "ipython3",
   "version": "3.9.7"
  }
 },
 "nbformat": 4,
 "nbformat_minor": 5
}
