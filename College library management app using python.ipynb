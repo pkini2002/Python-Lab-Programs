{
 "cells": [
  {
   "cell_type": "code",
   "execution_count": 1,
   "id": "218539c6",
   "metadata": {},
   "outputs": [
    {
     "name": "stderr",
     "output_type": "stream",
     "text": [
      "[INFO   ] [Logger      ] Record log in C:\\Users\\HP\\.kivy\\logs\\kivy_22-01-27_2.txt\n",
      "[INFO   ] [deps        ] Successfully imported \"kivy_deps.angle\" 0.3.1\n",
      "[INFO   ] [deps        ] Successfully imported \"kivy_deps.glew\" 0.3.0\n",
      "[INFO   ] [deps        ] Successfully imported \"kivy_deps.sdl2\" 0.3.1\n",
      "[INFO   ] [Kivy        ] v2.0.0\n",
      "[INFO   ] [Kivy        ] Installed at \"C:\\Users\\HP\\anaconda3\\lib\\site-packages\\kivy\\__init__.py\"\n",
      "[INFO   ] [Python      ] v3.9.7 (default, Sep 16 2021, 16:59:28) [MSC v.1916 64 bit (AMD64)]\n",
      "[INFO   ] [Python      ] Interpreter at \"C:\\Users\\HP\\anaconda3\\python.exe\"\n",
      "[INFO   ] [Factory     ] 186 symbols loaded\n",
      "[INFO   ] [Image       ] Providers: img_tex, img_dds, img_sdl2, img_pil (img_ffpyplayer ignored)\n",
      "[INFO   ] [Text        ] Provider: sdl2\n",
      "[INFO   ] [Window      ] Provider: sdl2\n",
      "[INFO   ] [GL          ] Using the \"OpenGL\" graphics system\n",
      "[INFO   ] [GL          ] GLEW initialization succeeded\n",
      "[INFO   ] [GL          ] Backend used <glew>\n",
      "[INFO   ] [GL          ] OpenGL version <b'4.6.0 - Build 30.0.100.9955'>\n",
      "[INFO   ] [GL          ] OpenGL vendor <b'Intel'>\n",
      "[INFO   ] [GL          ] OpenGL renderer <b'Intel(R) Iris(R) Xe Graphics'>\n",
      "[INFO   ] [GL          ] OpenGL parsed version: 4, 6\n",
      "[INFO   ] [GL          ] Shading version <b'4.60 - Build 30.0.100.9955'>\n",
      "[INFO   ] [GL          ] Texture max size <16384>\n",
      "[INFO   ] [GL          ] Texture max units <32>\n",
      "[INFO   ] [Window      ] auto add sdl2 input provider\n",
      "[INFO   ] [Window      ] virtual keyboard not allowed, single mode, not docked\n",
      "[INFO   ] [Base        ] Start application main loop\n",
      "[INFO   ] [GL          ] NPOT texture support is available\n"
     ]
    },
    {
     "name": "stdout",
     "output_type": "stream",
     "text": [
      "Name of the student:Prathiksha Kini\n",
      "Name of the book:Master Zero-to_Hero_in Python programming\n",
      "Issue date:25-01-2022\n",
      "Return date:10-02-2022\n",
      "Fine:No\n",
      "Name of the student:Prathiksha Kini\n",
      "Name of the book:Master Zero-to_Hero_in Python programming\n",
      "Issue date:25-01-2022\n",
      "Return date:10-02-2022\n",
      "Fine:No\n"
     ]
    },
    {
     "name": "stderr",
     "output_type": "stream",
     "text": [
      "[INFO   ] [Base        ] Leaving application in progress...\n"
     ]
    }
   ],
   "source": [
    "import kivy\n",
    "from kivy.app import App\n",
    "from kivy.uix.gridlayout import GridLayout\n",
    "from kivy.uix.label import Label\n",
    "from kivy.uix.textinput import TextInput\n",
    "from kivy.uix.button import Button\n",
    "\n",
    "class LibraryGrid(GridLayout):\n",
    "    def __init__(self,**kwargs):\n",
    "        super(LibraryGrid,self).__init__()\n",
    "        self.cols=4\n",
    "\n",
    "        self.add_widget(Label(text=\"Student Name:\"))\n",
    "        self.a_name=TextInput()\n",
    "        self.add_widget(self.a_name)\n",
    "\n",
    "        self.add_widget(Label(text=\"Name of the book:\"))\n",
    "        self.a_book=TextInput()\n",
    "        self.add_widget(self.a_book)\n",
    "\n",
    "        self.add_widget(Label(text=\"Issue date:\"))\n",
    "        self.a_issue = TextInput()\n",
    "        self.add_widget(self.a_issue)\n",
    "\n",
    "        self.add_widget(Label(text=\"Return date:\"))\n",
    "        self.a_return = TextInput()\n",
    "        self.add_widget(self.a_return)\n",
    "\n",
    "        self.add_widget(Label(text=\"Fine:\"))\n",
    "        self.a_fine = TextInput()\n",
    "        self.add_widget(self.a_fine)\n",
    "\n",
    "        self.press=Button(text=\"Click here to print information:\")\n",
    "        self.press.bind(on_press=self.click_me)\n",
    "        self.add_widget(self.press)\n",
    "\n",
    "    def click_me(self,instance):\n",
    "        print(\"Name of the student:\"+self.a_name.text)\n",
    "        print(\"Name of the book:\"+self.a_book.text)\n",
    "        print(\"Issue date:\"+self.a_issue.text)\n",
    "        print(\"Return date:\"+self.a_return.text)\n",
    "        print(\"Fine:\"+self.a_fine.text)\n",
    "\n",
    "class LibraryApp(App):\n",
    "    def build(self):\n",
    "        return LibraryGrid()\n",
    "\n",
    "if __name__ == '__main__':\n",
    "    LibraryApp().run()"
   ]
  },
  {
   "cell_type": "code",
   "execution_count": null,
   "id": "6f5f9243",
   "metadata": {},
   "outputs": [],
   "source": []
  }
 ],
 "metadata": {
  "kernelspec": {
   "display_name": "Python 3 (ipykernel)",
   "language": "python",
   "name": "python3"
  },
  "language_info": {
   "codemirror_mode": {
    "name": "ipython",
    "version": 3
   },
   "file_extension": ".py",
   "mimetype": "text/x-python",
   "name": "python",
   "nbconvert_exporter": "python",
   "pygments_lexer": "ipython3",
   "version": "3.9.7"
  }
 },
 "nbformat": 4,
 "nbformat_minor": 5
}
