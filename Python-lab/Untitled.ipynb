{
 "cells": [
  {
   "cell_type": "code",
   "execution_count": null,
   "id": "0890ecfa",
   "metadata": {},
   "outputs": [],
   "source": [
    "# Generating fibonacci series  upto n numbers\n",
    "t1=0\n",
    "t2=1\n",
    "num=int(input(\"Enter the value of n:\"))\n",
    "\n",
    "if num<=0:\n",
    "    print(\"Invalid Input\")\n",
    "\n",
    "elif num==1:\n",
    "    print(t1)\n",
    "    \n",
    "else:\n",
    "    for i in range(num):\n",
    "        t3=t1+t2\n",
    "        print(t1)\n",
    "        t1=t2;\n",
    "        t2=t3"
   ]
  },
  {
   "cell_type": "code",
   "execution_count": null,
   "id": "d2fa8ed8",
   "metadata": {},
   "outputs": [],
   "source": [
    "#Factorial of a given number\n",
    "fact=1\n",
    "num=int(input(\"Enter the number:\"))\n",
    "\n",
    "if num<0:\n",
    "    print(\"Invalid input\")\n",
    "\n",
    "for i in range(1,num+1):\n",
    "    fact*=i;\n",
    "    \n",
    "print(fact)"
   ]
  },
  {
   "cell_type": "code",
   "execution_count": null,
   "id": "0ea2eb41",
   "metadata": {},
   "outputs": [],
   "source": [
    "#Count number of vowels in a given string\n",
    "count=0\n",
    "sen=str(input(\"Enter a string:\"))\n",
    "\n",
    "for i in range(len(sen)):\n",
    "    if(sen[i]=='a' or sen[i]=='e' or sen[i]=='i' or sen[i]=='o' or sen[i]=='u'):\n",
    "        count=count+1\n",
    "        \n",
    "    if(sen[i]=='A' or sen[i]=='E' or sen[i]=='I' or sen[i]=='O' or sen[i]=='U'):\n",
    "        count=count+1\n",
    "print(count)"
   ]
  }
 ],
 "metadata": {
  "kernelspec": {
   "display_name": "Python 3 (ipykernel)",
   "language": "python",
   "name": "python3"
  },
  "language_info": {
   "codemirror_mode": {
    "name": "ipython",
    "version": 3
   },
   "file_extension": ".py",
   "mimetype": "text/x-python",
   "name": "python",
   "nbconvert_exporter": "python",
   "pygments_lexer": "ipython3",
   "version": "3.9.7"
  }
 },
 "nbformat": 4,
 "nbformat_minor": 5
}
