{
  "nbformat": 4,
  "nbformat_minor": 0,
  "metadata": {
    "colab": {
      "name": "Untitled4.ipynb",
      "provenance": [],
      "authorship_tag": "ABX9TyPgez8qXQwyG9JqU8e8DIVB",
      "include_colab_link": true
    },
    "kernelspec": {
      "name": "python3",
      "display_name": "Python 3"
    },
    "language_info": {
      "name": "python"
    }
  },
  "cells": [
    {
      "cell_type": "markdown",
      "metadata": {
        "id": "view-in-github",
        "colab_type": "text"
      },
      "source": [
        "<a href=\"https://colab.research.google.com/github/pkini2002/Practicepython/blob/main/Untitled4.ipynb\" target=\"_parent\"><img src=\"https://colab.research.google.com/assets/colab-badge.svg\" alt=\"Open In Colab\"/></a>"
      ]
    },
    {
      "cell_type": "code",
      "execution_count": 1,
      "metadata": {
        "id": "TX797xzZMzML",
        "colab": {
          "base_uri": "https://localhost:8080/"
        },
        "outputId": "e50ca6f0-1f91-43e6-821a-b5055eba6649"
      },
      "outputs": [
        {
          "output_type": "stream",
          "name": "stdout",
          "text": [
            "[3 4 4]\n",
            "[-1 -6  0]\n"
          ]
        }
      ],
      "source": [
        "import numpy as np\n",
        "v=np.array([1,-1,2])\n",
        "w=np.array([2,5,2])\n",
        "print(v+w)\n",
        "print(v-w)"
      ]
    },
    {
      "cell_type": "code",
      "source": [
        "import numpy as np\n",
        "v=np.array([1,-1,2])\n",
        "w=np.array([2,5,2])\n",
        "print(np.linalg.norm(v))\n",
        "s=np.dot(v,w)\n",
        "print(s)"
      ],
      "metadata": {
        "colab": {
          "base_uri": "https://localhost:8080/"
        },
        "id": "pWCoWA0NOPdK",
        "outputId": "2b017dad-e523-4d90-95ab-bbae79252ffd"
      },
      "execution_count": 2,
      "outputs": [
        {
          "output_type": "stream",
          "name": "stdout",
          "text": [
            "2.449489742783178\n",
            "1\n"
          ]
        }
      ]
    }
  ]
}